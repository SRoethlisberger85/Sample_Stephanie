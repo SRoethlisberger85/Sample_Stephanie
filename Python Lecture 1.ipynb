{
 "cells": [
  {
   "cell_type": "code",
   "execution_count": null,
   "id": "4cb6fdf8",
   "metadata": {},
   "outputs": [],
   "source": []
  },
  {
   "cell_type": "code",
   "execution_count": null,
   "id": "ba821372",
   "metadata": {},
   "outputs": [],
   "source": [
    "# this is a single line comment\n",
    "\n",
    "# to run a cell, push:  ctrl+enter or alt+enter\n",
    "\n",
    "# to delete a cell, first push excape to remove ursor from the cell, then push D twice, which will remove the selected cell\n",
    "\n",
    "# once curson is outside, by upshing escape, A will create a new cell above, B for below"
   ]
  },
  {
   "cell_type": "code",
   "execution_count": 8,
   "id": "206b8874",
   "metadata": {},
   "outputs": [
    {
     "ename": "NameError",
     "evalue": "name 'multi' is not defined",
     "output_type": "error",
     "traceback": [
      "\u001b[0;31m---------------------------------------------------------------------------\u001b[0m",
      "\u001b[0;31mNameError\u001b[0m                                 Traceback (most recent call last)",
      "Cell \u001b[0;32mIn[8], line 3\u001b[0m\n\u001b[1;32m      1\u001b[0m \u001b[38;5;124;03m\"\"\"\"\"\"\u001b[39;00m\n\u001b[0;32m----> 3\u001b[0m \u001b[43mmulti\u001b[49m\n\u001b[1;32m      4\u001b[0m line \n\u001b[1;32m      5\u001b[0m commenting \n",
      "\u001b[0;31mNameError\u001b[0m: name 'multi' is not defined"
     ]
    }
   ],
   "source": [
    "\"\"\"\"\"\"\n",
    "\n",
    "multi\n",
    "line \n",
    "commenting \n",
    "\n",
    "\"\"\"\"\"\""
   ]
  },
  {
   "cell_type": "code",
   "execution_count": 1,
   "id": "1e2adae1",
   "metadata": {},
   "outputs": [
    {
     "ename": "SyntaxError",
     "evalue": "invalid syntax (904310343.py, line 6)",
     "output_type": "error",
     "traceback": [
      "\u001b[0;36m  Cell \u001b[0;32mIn[1], line 6\u001b[0;36m\u001b[0m\n\u001b[0;31m    with\u001b[0m\n\u001b[0m        ^\u001b[0m\n\u001b[0;31mSyntaxError\u001b[0m\u001b[0;31m:\u001b[0m invalid syntax\n"
     ]
    }
   ],
   "source": [
    "''''''\n",
    "\n",
    "multi\n",
    "line\n",
    "commenting\n",
    "with\n",
    "single\n",
    "quotations\n",
    "\n",
    "''''''"
   ]
  },
  {
   "cell_type": "markdown",
   "id": "9da2adc5",
   "metadata": {},
   "source": [
    "# how to print in python"
   ]
  },
  {
   "cell_type": "code",
   "execution_count": 5,
   "id": "6774c052",
   "metadata": {},
   "outputs": [],
   "source": [
    "planet = \"earth\"\n",
    "diameter = 12874"
   ]
  },
  {
   "cell_type": "code",
   "execution_count": 4,
   "id": "1e3284d5",
   "metadata": {},
   "outputs": [
    {
     "data": {
      "text/plain": [
       "'earth'"
      ]
     },
     "execution_count": 4,
     "metadata": {},
     "output_type": "execute_result"
    }
   ],
   "source": [
    "planet"
   ]
  },
  {
   "cell_type": "code",
   "execution_count": 6,
   "id": "6d16cde3",
   "metadata": {},
   "outputs": [
    {
     "data": {
      "text/plain": [
       "12874"
      ]
     },
     "execution_count": 6,
     "metadata": {},
     "output_type": "execute_result"
    }
   ],
   "source": [
    "diameter"
   ]
  },
  {
   "cell_type": "code",
   "execution_count": 7,
   "id": "4b1a9fea",
   "metadata": {},
   "outputs": [
    {
     "name": "stdout",
     "output_type": "stream",
     "text": [
      "earth\n"
     ]
    }
   ],
   "source": [
    "print(planet)"
   ]
  },
  {
   "cell_type": "code",
   "execution_count": 10,
   "id": "5f7dab77",
   "metadata": {},
   "outputs": [
    {
     "name": "stdout",
     "output_type": "stream",
     "text": [
      "the diameter of earth is 12874\n"
     ]
    }
   ],
   "source": [
    "print(\"the diameter of {variable1} is {variable2}\".format(variable1 = planet, variable2 = diameter))"
   ]
  },
  {
   "cell_type": "code",
   "execution_count": 11,
   "id": "b60d4514",
   "metadata": {},
   "outputs": [
    {
     "name": "stdout",
     "output_type": "stream",
     "text": [
      "the diameter of earth is 12874\n"
     ]
    }
   ],
   "source": [
    "print(\"the diameter of \"+ planet +\" is \"+str(diameter))\n",
    "\n",
    "# \"the diameter of\" - string\n",
    "# planet - string\n",
    "# \"is\" - string\n",
    "# diamater - integer (add \"str\" to force string)\n"
   ]
  },
  {
   "cell_type": "code",
   "execution_count": 13,
   "id": "68e0f93f",
   "metadata": {},
   "outputs": [
    {
     "name": "stdout",
     "output_type": "stream",
     "text": [
      "the diameter of earth is 12874\n"
     ]
    }
   ],
   "source": [
    "print(f\"the diameter of {planet} is {diameter}\") # f string"
   ]
  },
  {
   "cell_type": "markdown",
   "id": "5368e557",
   "metadata": {},
   "source": [
    "# data types"
   ]
  },
  {
   "cell_type": "code",
   "execution_count": null,
   "id": "2cb27ce3",
   "metadata": {},
   "outputs": [],
   "source": [
    "numerical:  int, float\n",
    "bollean:  bool           >>> True False \n",
    "set:  set                >>> Set() {}  {there is only value in it}    sets cannot have duplicates\n",
    "string/text:  str        >>> ''  \"\"  str(some information in here)\n",
    "tuple:  tuble.           >>> ()  tuple()      cannot be mutated\n",
    "list: list                      >>>[]    list()                                 can contain mix data types and be mutated\n",
    "dictionary: dict                >>> {\"key\":\"value\"}  dict()                     aka. key value pair or in javascript object or json"
   ]
  },
  {
   "cell_type": "markdown",
   "id": "1afd7d2d",
   "metadata": {},
   "source": [
    "# numericals"
   ]
  },
  {
   "cell_type": "code",
   "execution_count": 17,
   "id": "f6edb45f",
   "metadata": {},
   "outputs": [],
   "source": [
    "a = 5"
   ]
  },
  {
   "cell_type": "code",
   "execution_count": 18,
   "id": "ffc6e075",
   "metadata": {},
   "outputs": [
    {
     "data": {
      "text/plain": [
       "5"
      ]
     },
     "execution_count": 18,
     "metadata": {},
     "output_type": "execute_result"
    }
   ],
   "source": [
    "a"
   ]
  },
  {
   "cell_type": "code",
   "execution_count": 19,
   "id": "b730af27",
   "metadata": {},
   "outputs": [
    {
     "name": "stdout",
     "output_type": "stream",
     "text": [
      "5\n"
     ]
    }
   ],
   "source": [
    "print (a)"
   ]
  },
  {
   "cell_type": "code",
   "execution_count": 20,
   "id": "9a8b979e",
   "metadata": {},
   "outputs": [
    {
     "data": {
      "text/plain": [
       "int"
      ]
     },
     "execution_count": 20,
     "metadata": {},
     "output_type": "execute_result"
    }
   ],
   "source": [
    "type (a)"
   ]
  },
  {
   "cell_type": "code",
   "execution_count": 21,
   "id": "c9e4e9f0",
   "metadata": {},
   "outputs": [],
   "source": [
    "b = 5.1"
   ]
  },
  {
   "cell_type": "code",
   "execution_count": 22,
   "id": "87cf626b",
   "metadata": {},
   "outputs": [
    {
     "data": {
      "text/plain": [
       "float"
      ]
     },
     "execution_count": 22,
     "metadata": {},
     "output_type": "execute_result"
    }
   ],
   "source": [
    "type(b)"
   ]
  },
  {
   "cell_type": "code",
   "execution_count": 23,
   "id": "35e45a2e",
   "metadata": {},
   "outputs": [
    {
     "data": {
      "text/plain": [
       "float"
      ]
     },
     "execution_count": 23,
     "metadata": {},
     "output_type": "execute_result"
    }
   ],
   "source": [
    "type(9.8)"
   ]
  },
  {
   "cell_type": "code",
   "execution_count": 24,
   "id": "b7d756e2",
   "metadata": {},
   "outputs": [
    {
     "data": {
      "text/plain": [
       "5"
      ]
     },
     "execution_count": 24,
     "metadata": {},
     "output_type": "execute_result"
    }
   ],
   "source": [
    "int(b)"
   ]
  },
  {
   "cell_type": "code",
   "execution_count": 25,
   "id": "d46ee1d3",
   "metadata": {},
   "outputs": [
    {
     "data": {
      "text/plain": [
       "5.0"
      ]
     },
     "execution_count": 25,
     "metadata": {},
     "output_type": "execute_result"
    }
   ],
   "source": [
    "float(a)"
   ]
  },
  {
   "cell_type": "markdown",
   "id": "14c573c6",
   "metadata": {},
   "source": [
    "# boolean"
   ]
  },
  {
   "cell_type": "code",
   "execution_count": 29,
   "id": "f7c7079f",
   "metadata": {},
   "outputs": [],
   "source": [
    "a = False "
   ]
  },
  {
   "cell_type": "code",
   "execution_count": 30,
   "id": "0c588796",
   "metadata": {},
   "outputs": [
    {
     "data": {
      "text/plain": [
       "False"
      ]
     },
     "execution_count": 30,
     "metadata": {},
     "output_type": "execute_result"
    }
   ],
   "source": [
    "a"
   ]
  },
  {
   "cell_type": "code",
   "execution_count": 31,
   "id": "24d2ce89",
   "metadata": {},
   "outputs": [
    {
     "data": {
      "text/plain": [
       "bool"
      ]
     },
     "execution_count": 31,
     "metadata": {},
     "output_type": "execute_result"
    }
   ],
   "source": [
    "type(a)"
   ]
  },
  {
   "cell_type": "markdown",
   "id": "46915501",
   "metadata": {},
   "source": [
    "# sets"
   ]
  },
  {
   "cell_type": "code",
   "execution_count": 34,
   "id": "282194f4",
   "metadata": {},
   "outputs": [],
   "source": [
    "my_set = {1,2,2,3,3,4,4,4, \"a\", \"a\", \"b\", \"c\"}"
   ]
  },
  {
   "cell_type": "code",
   "execution_count": 35,
   "id": "5a2f165c",
   "metadata": {},
   "outputs": [
    {
     "data": {
      "text/plain": [
       "{1, 2, 3, 4, 'a', 'b', 'c'}"
      ]
     },
     "execution_count": 35,
     "metadata": {},
     "output_type": "execute_result"
    }
   ],
   "source": [
    "my_set"
   ]
  },
  {
   "cell_type": "code",
   "execution_count": 36,
   "id": "c1e9fa64",
   "metadata": {},
   "outputs": [
    {
     "data": {
      "text/plain": [
       "set"
      ]
     },
     "execution_count": 36,
     "metadata": {},
     "output_type": "execute_result"
    }
   ],
   "source": [
    "type(my_set)"
   ]
  },
  {
   "cell_type": "code",
   "execution_count": 38,
   "id": "6d19efbe",
   "metadata": {},
   "outputs": [],
   "source": [
    "my_set.add(\"SNR\")"
   ]
  },
  {
   "cell_type": "code",
   "execution_count": 39,
   "id": "6f03ae30",
   "metadata": {},
   "outputs": [
    {
     "data": {
      "text/plain": [
       "{1, 2, 3, 4, 'SNR', 'a', 'b', 'c'}"
      ]
     },
     "execution_count": 39,
     "metadata": {},
     "output_type": "execute_result"
    }
   ],
   "source": [
    "my_set"
   ]
  },
  {
   "cell_type": "code",
   "execution_count": 40,
   "id": "d3612fd5",
   "metadata": {},
   "outputs": [
    {
     "data": {
      "text/plain": [
       "1"
      ]
     },
     "execution_count": 40,
     "metadata": {},
     "output_type": "execute_result"
    }
   ],
   "source": [
    "my_set.pop()\n",
    "#once your curson is inside the paranthesis hold shift+tab tab\n",
    "\n",
    "#removed, returned, and modified"
   ]
  },
  {
   "cell_type": "code",
   "execution_count": 41,
   "id": "2e329170",
   "metadata": {},
   "outputs": [
    {
     "data": {
      "text/plain": [
       "{2, 3, 4, 'SNR', 'a', 'b', 'c'}"
      ]
     },
     "execution_count": 41,
     "metadata": {},
     "output_type": "execute_result"
    }
   ],
   "source": [
    "my_set"
   ]
  },
  {
   "cell_type": "code",
   "execution_count": 43,
   "id": "af2608ad",
   "metadata": {},
   "outputs": [],
   "source": [
    "my_set.remove(\"SNR\")"
   ]
  },
  {
   "cell_type": "code",
   "execution_count": 44,
   "id": "fca51348",
   "metadata": {},
   "outputs": [
    {
     "data": {
      "text/plain": [
       "{2, 3, 4, 'a', 'b', 'c'}"
      ]
     },
     "execution_count": 44,
     "metadata": {},
     "output_type": "execute_result"
    }
   ],
   "source": [
    "my_set"
   ]
  },
  {
   "cell_type": "code",
   "execution_count": 47,
   "id": "de3be0c6",
   "metadata": {},
   "outputs": [
    {
     "data": {
      "text/plain": [
       "<function set.copy>"
      ]
     },
     "execution_count": 47,
     "metadata": {},
     "output_type": "execute_result"
    }
   ],
   "source": [
    "my_set.copy "
   ]
  },
  {
   "cell_type": "markdown",
   "id": "a998fb11",
   "metadata": {},
   "source": [
    "#tuple"
   ]
  },
  {
   "cell_type": "code",
   "execution_count": 51,
   "id": "52a28b4f",
   "metadata": {},
   "outputs": [],
   "source": [
    "my_tuple = {1,2,2,3,3,4,4,4, \"a\", \"a\", \"b\", \"c\"}"
   ]
  },
  {
   "cell_type": "code",
   "execution_count": 52,
   "id": "a4475081",
   "metadata": {},
   "outputs": [
    {
     "data": {
      "text/plain": [
       "{1, 2, 3, 4, 'a', 'b', 'c'}"
      ]
     },
     "execution_count": 52,
     "metadata": {},
     "output_type": "execute_result"
    }
   ],
   "source": [
    "my_tuple"
   ]
  },
  {
   "cell_type": "code",
   "execution_count": 53,
   "id": "6e390dc8",
   "metadata": {},
   "outputs": [
    {
     "data": {
      "text/plain": [
       "set"
      ]
     },
     "execution_count": 53,
     "metadata": {},
     "output_type": "execute_result"
    }
   ],
   "source": [
    "type(my_tuple)"
   ]
  },
  {
   "cell_type": "code",
   "execution_count": 57,
   "id": "c7828c08",
   "metadata": {},
   "outputs": [
    {
     "ename": "AttributeError",
     "evalue": "'set' object has no attribute 'count'",
     "output_type": "error",
     "traceback": [
      "\u001b[0;31m---------------------------------------------------------------------------\u001b[0m",
      "\u001b[0;31mAttributeError\u001b[0m                            Traceback (most recent call last)",
      "Cell \u001b[0;32mIn[57], line 1\u001b[0m\n\u001b[0;32m----> 1\u001b[0m \u001b[43mmy_tuple\u001b[49m\u001b[38;5;241;43m.\u001b[39;49m\u001b[43mcount\u001b[49m(\u001b[38;5;241m4\u001b[39m)\n",
      "\u001b[0;31mAttributeError\u001b[0m: 'set' object has no attribute 'count'"
     ]
    }
   ],
   "source": [
    "my_tuple.count(4)"
   ]
  },
  {
   "cell_type": "code",
   "execution_count": 58,
   "id": "1cc99a3a",
   "metadata": {},
   "outputs": [
    {
     "ename": "AttributeError",
     "evalue": "'set' object has no attribute 'index'",
     "output_type": "error",
     "traceback": [
      "\u001b[0;31m---------------------------------------------------------------------------\u001b[0m",
      "\u001b[0;31mAttributeError\u001b[0m                            Traceback (most recent call last)",
      "Cell \u001b[0;32mIn[58], line 1\u001b[0m\n\u001b[0;32m----> 1\u001b[0m \u001b[43mmy_tuple\u001b[49m\u001b[38;5;241;43m.\u001b[39;49m\u001b[43mindex\u001b[49m(\u001b[38;5;124m'\u001b[39m\u001b[38;5;124mb\u001b[39m\u001b[38;5;124m'\u001b[39m)\n",
      "\u001b[0;31mAttributeError\u001b[0m: 'set' object has no attribute 'index'"
     ]
    }
   ],
   "source": [
    "my_tuple.index('b')\n",
    "\n",
    "#index starts with 0"
   ]
  },
  {
   "cell_type": "code",
   "execution_count": 60,
   "id": "bd587579",
   "metadata": {},
   "outputs": [],
   "source": [
    "my_tuple2 = (\"zzz\",999)"
   ]
  },
  {
   "cell_type": "code",
   "execution_count": 61,
   "id": "60acacfa",
   "metadata": {},
   "outputs": [
    {
     "data": {
      "text/plain": [
       "('zzz', 999)"
      ]
     },
     "execution_count": 61,
     "metadata": {},
     "output_type": "execute_result"
    }
   ],
   "source": [
    "my_tuple2"
   ]
  },
  {
   "cell_type": "markdown",
   "id": "d0fd78d4",
   "metadata": {},
   "source": [
    "# strings"
   ]
  },
  {
   "cell_type": "code",
   "execution_count": 64,
   "id": "7edb18a0",
   "metadata": {},
   "outputs": [],
   "source": [
    "a = 45"
   ]
  },
  {
   "cell_type": "code",
   "execution_count": 65,
   "id": "b06257d4",
   "metadata": {},
   "outputs": [
    {
     "data": {
      "text/plain": [
       "int"
      ]
     },
     "execution_count": 65,
     "metadata": {},
     "output_type": "execute_result"
    }
   ],
   "source": [
    "type(a)"
   ]
  },
  {
   "cell_type": "code",
   "execution_count": 66,
   "id": "03a6ddb0",
   "metadata": {},
   "outputs": [
    {
     "data": {
      "text/plain": [
       "'45'"
      ]
     },
     "execution_count": 66,
     "metadata": {},
     "output_type": "execute_result"
    }
   ],
   "source": [
    "str(a)"
   ]
  },
  {
   "cell_type": "code",
   "execution_count": 67,
   "id": "2937e7af",
   "metadata": {},
   "outputs": [],
   "source": [
    "b = \"some text\""
   ]
  },
  {
   "cell_type": "code",
   "execution_count": 68,
   "id": "8d90597d",
   "metadata": {},
   "outputs": [
    {
     "data": {
      "text/plain": [
       "str"
      ]
     },
     "execution_count": 68,
     "metadata": {},
     "output_type": "execute_result"
    }
   ],
   "source": [
    "type(b)"
   ]
  },
  {
   "cell_type": "code",
   "execution_count": 69,
   "id": "35b47ef0",
   "metadata": {},
   "outputs": [],
   "source": [
    "s='   python IS nice: % ^ @ 1 2 3  i like it  '"
   ]
  },
  {
   "cell_type": "code",
   "execution_count": 70,
   "id": "1e3974b7",
   "metadata": {},
   "outputs": [
    {
     "data": {
      "text/plain": [
       "'   python IS nice: % ^ @ 1 2 3  i like it  '"
      ]
     },
     "execution_count": 70,
     "metadata": {},
     "output_type": "execute_result"
    }
   ],
   "source": [
    "s"
   ]
  },
  {
   "cell_type": "code",
   "execution_count": 71,
   "id": "4b4411ca",
   "metadata": {},
   "outputs": [
    {
     "data": {
      "text/plain": [
       "str"
      ]
     },
     "execution_count": 71,
     "metadata": {},
     "output_type": "execute_result"
    }
   ],
   "source": [
    "type(s)"
   ]
  },
  {
   "cell_type": "code",
   "execution_count": 72,
   "id": "bb2157a7",
   "metadata": {},
   "outputs": [
    {
     "data": {
      "text/plain": [
       "'p'"
      ]
     },
     "execution_count": 72,
     "metadata": {},
     "output_type": "execute_result"
    }
   ],
   "source": [
    "s[3]"
   ]
  },
  {
   "cell_type": "code",
   "execution_count": 73,
   "id": "053a6a19",
   "metadata": {},
   "outputs": [
    {
     "data": {
      "text/plain": [
       "'   python is nice: % ^ @ 1 2 3  i like it  '"
      ]
     },
     "execution_count": 73,
     "metadata": {},
     "output_type": "execute_result"
    }
   ],
   "source": [
    "s.capitalize()"
   ]
  },
  {
   "cell_type": "code",
   "execution_count": 74,
   "id": "581aa37a",
   "metadata": {},
   "outputs": [
    {
     "data": {
      "text/plain": [
       "'   python IS nick: % ^ @ 1 2 3  i likk it  '"
      ]
     },
     "execution_count": 74,
     "metadata": {},
     "output_type": "execute_result"
    }
   ],
   "source": [
    "s.replace(\"e\",\"k\")"
   ]
  },
  {
   "cell_type": "code",
   "execution_count": 75,
   "id": "8644c1ca",
   "metadata": {},
   "outputs": [
    {
     "data": {
      "text/plain": [
       "'pythonISnice:%^@123ilikeit'"
      ]
     },
     "execution_count": 75,
     "metadata": {},
     "output_type": "execute_result"
    }
   ],
   "source": [
    "s.replace(\" \", \"\") #single space"
   ]
  },
  {
   "cell_type": "code",
   "execution_count": 76,
   "id": "1d28f739",
   "metadata": {},
   "outputs": [
    {
     "data": {
      "text/plain": [
       "' python IS nice: % ^ @ 1 2 3i like it'"
      ]
     },
     "execution_count": 76,
     "metadata": {},
     "output_type": "execute_result"
    }
   ],
   "source": [
    "s.replace(\"  \", \"\") #double space"
   ]
  },
  {
   "cell_type": "code",
   "execution_count": 77,
   "id": "ec2b6ed9",
   "metadata": {},
   "outputs": [
    {
     "data": {
      "text/plain": [
       "'   PYTHON IS NICE: % ^ @ 1 2 3  I LIKE IT  '"
      ]
     },
     "execution_count": 77,
     "metadata": {},
     "output_type": "execute_result"
    }
   ],
   "source": [
    "s.upper()"
   ]
  },
  {
   "cell_type": "code",
   "execution_count": 78,
   "id": "f3372ad0",
   "metadata": {},
   "outputs": [
    {
     "data": {
      "text/plain": [
       "'   python is nice: % ^ @ 1 2 3  i like it  '"
      ]
     },
     "execution_count": 78,
     "metadata": {},
     "output_type": "execute_result"
    }
   ],
   "source": [
    "s.lower()"
   ]
  },
  {
   "cell_type": "code",
   "execution_count": 79,
   "id": "109e0b89",
   "metadata": {},
   "outputs": [
    {
     "data": {
      "text/plain": [
       "['python', 'IS', 'nice:', '%', '^', '@', '1', '2', '3', 'i', 'like', 'it']"
      ]
     },
     "execution_count": 79,
     "metadata": {},
     "output_type": "execute_result"
    }
   ],
   "source": [
    "s.split()"
   ]
  },
  {
   "cell_type": "code",
   "execution_count": 81,
   "id": "79873b80",
   "metadata": {},
   "outputs": [],
   "source": [
    "s2 = s.split()"
   ]
  },
  {
   "cell_type": "code",
   "execution_count": 82,
   "id": "ad756680",
   "metadata": {},
   "outputs": [
    {
     "data": {
      "text/plain": [
       "['python', 'IS', 'nice:', '%', '^', '@', '1', '2', '3', 'i', 'like', 'it']"
      ]
     },
     "execution_count": 82,
     "metadata": {},
     "output_type": "execute_result"
    }
   ],
   "source": [
    "s2 "
   ]
  },
  {
   "cell_type": "code",
   "execution_count": 83,
   "id": "c9c1d2fd",
   "metadata": {},
   "outputs": [
    {
     "data": {
      "text/plain": [
       "'python'"
      ]
     },
     "execution_count": 83,
     "metadata": {},
     "output_type": "execute_result"
    }
   ],
   "source": [
    "s2[0]"
   ]
  },
  {
   "cell_type": "code",
   "execution_count": 84,
   "id": "5eae9f0f",
   "metadata": {},
   "outputs": [],
   "source": [
    "s3 = s.split(\":\")"
   ]
  },
  {
   "cell_type": "code",
   "execution_count": 85,
   "id": "ad8a3578",
   "metadata": {},
   "outputs": [
    {
     "data": {
      "text/plain": [
       "['   python IS nice', ' % ^ @ 1 2 3  i like it  ']"
      ]
     },
     "execution_count": 85,
     "metadata": {},
     "output_type": "execute_result"
    }
   ],
   "source": [
    "s3"
   ]
  },
  {
   "cell_type": "code",
   "execution_count": 86,
   "id": "58ec479c",
   "metadata": {},
   "outputs": [
    {
     "data": {
      "text/plain": [
       "'   python IS nice'"
      ]
     },
     "execution_count": 86,
     "metadata": {},
     "output_type": "execute_result"
    }
   ],
   "source": [
    "s3[0]"
   ]
  },
  {
   "cell_type": "code",
   "execution_count": 87,
   "id": "3c230787",
   "metadata": {},
   "outputs": [
    {
     "data": {
      "text/plain": [
       "'   python IS nice'"
      ]
     },
     "execution_count": 87,
     "metadata": {},
     "output_type": "execute_result"
    }
   ],
   "source": [
    "s.split(\":\")[0]"
   ]
  },
  {
   "cell_type": "code",
   "execution_count": 88,
   "id": "ed587218",
   "metadata": {},
   "outputs": [
    {
     "data": {
      "text/plain": [
       "8"
      ]
     },
     "execution_count": 88,
     "metadata": {},
     "output_type": "execute_result"
    }
   ],
   "source": [
    "s.find(\"n\")"
   ]
  },
  {
   "cell_type": "code",
   "execution_count": 90,
   "id": "612971c2",
   "metadata": {},
   "outputs": [
    {
     "data": {
      "text/plain": [
       "'python IS nice: % ^ @ 1 2 3  i like it'"
      ]
     },
     "execution_count": 90,
     "metadata": {},
     "output_type": "execute_result"
    }
   ],
   "source": [
    "s.strip()"
   ]
  },
  {
   "cell_type": "code",
   "execution_count": 91,
   "id": "02ed8c51",
   "metadata": {},
   "outputs": [
    {
     "data": {
      "text/plain": [
       "'   python IS nice: % ^ @ 1 2 3  i like it'"
      ]
     },
     "execution_count": 91,
     "metadata": {},
     "output_type": "execute_result"
    }
   ],
   "source": [
    "s.rstrip()"
   ]
  },
  {
   "cell_type": "code",
   "execution_count": 92,
   "id": "618a713f",
   "metadata": {},
   "outputs": [
    {
     "data": {
      "text/plain": [
       "'python IS nice: % ^ @ 1 2 3  i like it  '"
      ]
     },
     "execution_count": 92,
     "metadata": {},
     "output_type": "execute_result"
    }
   ],
   "source": [
    "s.lstrip()"
   ]
  },
  {
   "cell_type": "code",
   "execution_count": 93,
   "id": "ae5d1e4a",
   "metadata": {},
   "outputs": [
    {
     "data": {
      "text/plain": [
       "'   PYTHON is NICE: % ^ @ 1 2 3  I LIKE IT  '"
      ]
     },
     "execution_count": 93,
     "metadata": {},
     "output_type": "execute_result"
    }
   ],
   "source": [
    "s.swapcase()"
   ]
  },
  {
   "cell_type": "code",
   "execution_count": 94,
   "id": "f86ac1ff",
   "metadata": {},
   "outputs": [
    {
     "data": {
      "text/plain": [
       "'   Python Is Nice: % ^ @ 1 2 3  I Like It  '"
      ]
     },
     "execution_count": 94,
     "metadata": {},
     "output_type": "execute_result"
    }
   ],
   "source": [
    "s.title()"
   ]
  },
  {
   "cell_type": "code",
   "execution_count": null,
   "id": "0bd7bc25",
   "metadata": {},
   "outputs": [],
   "source": []
  }
 ],
 "metadata": {
  "kernelspec": {
   "display_name": "Python 3 (ipykernel)",
   "language": "python",
   "name": "python3"
  },
  "language_info": {
   "codemirror_mode": {
    "name": "ipython",
    "version": 3
   },
   "file_extension": ".py",
   "mimetype": "text/x-python",
   "name": "python",
   "nbconvert_exporter": "python",
   "pygments_lexer": "ipython3",
   "version": "3.10.9"
  }
 },
 "nbformat": 4,
 "nbformat_minor": 5
}
